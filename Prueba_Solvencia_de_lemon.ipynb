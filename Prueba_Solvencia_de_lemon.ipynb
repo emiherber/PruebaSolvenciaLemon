{
  "nbformat": 4,
  "nbformat_minor": 0,
  "metadata": {
    "colab": {
      "provenance": [],
      "toc_visible": true,
      "authorship_tag": "ABX9TyOIIYXIeOmjJr27BS6tTuJ6"
    },
    "kernelspec": {
      "name": "python3",
      "display_name": "Python 3"
    },
    "language_info": {
      "name": "python"
    }
  },
  "cells": [
    {
      "cell_type": "markdown",
      "source": [
        "# **Prueba de solvencia de Lemon Cash**"
      ],
      "metadata": {
        "id": "MEyGvSPCCRek"
      }
    },
    {
      "cell_type": "markdown",
      "source": [
        "## Verficar Python instaldo"
      ],
      "metadata": {
        "id": "D3mBNitsHpwh"
      }
    },
    {
      "cell_type": "markdown",
      "source": [
        "### Paso 1 – Verificar que versión de python tenemos instalada, ya que se necesita tener una versión 3.9 o superior"
      ],
      "metadata": {
        "id": "w3H0ABQsCfW8"
      }
    },
    {
      "cell_type": "code",
      "source": [
        "!python3 --version"
      ],
      "metadata": {
        "colab": {
          "base_uri": "https://localhost:8080/"
        },
        "id": "IREbt-bV_efk",
        "outputId": "c8516103-0bc6-4d56-b1fd-f3e18b6e728d"
      },
      "execution_count": 40,
      "outputs": [
        {
          "output_type": "stream",
          "name": "stdout",
          "text": [
            "Python 3.9.16\n"
          ]
        }
      ]
    },
    {
      "cell_type": "markdown",
      "source": [
        "### Paso 2 – En caso de darnos una versión inferior a 3.9, debemos ejecutar el siguiente código.\n",
        "\n"
      ],
      "metadata": {
        "id": "Kho3uamDC4qP"
      }
    },
    {
      "cell_type": "code",
      "source": [
        "#**Add python version you wish** to list\n",
        "!sudo apt-get update -y\n",
        "!sudo apt-get install python3.9\n",
        "from IPython.display import clear_output \n",
        "clear_output()\n",
        "!sudo update-alternatives --install /usr/bin/python3 python3 /usr/bin/python3.9 1"
      ],
      "metadata": {
        "id": "QdK4hAYwD_us"
      },
      "execution_count": null,
      "outputs": []
    },
    {
      "cell_type": "code",
      "source": [
        "# Elija una de las alternativas dadas: (3.9) -> 2\n",
        "!sudo update-alternatives --config python3\n",
        "\n",
        "# This one used to work but now NOT(for me)!\n",
        "# !sudo update-alternatives --config python\n",
        "\n",
        "# Check the result\n",
        "!python3 --version\n",
        "\n",
        "# Attention: Install pip (... needed!)\n",
        "!sudo apt install python3-pip"
      ],
      "metadata": {
        "colab": {
          "base_uri": "https://localhost:8080/"
        },
        "id": "4cPyyPcjA4YJ",
        "outputId": "cd6d88f1-68e3-4312-bf26-ffb76da3bbb9"
      },
      "execution_count": 39,
      "outputs": [
        {
          "output_type": "stream",
          "name": "stdout",
          "text": [
            "There are 2 choices for the alternative python3 (providing /usr/bin/python3).\n",
            "\n",
            "  Selection    Path                Priority   Status\n",
            "------------------------------------------------------------\n",
            "* 0            /usr/bin/python3.8   1         auto mode\n",
            "  1            /usr/bin/python3.8   1         manual mode\n",
            "  2            /usr/bin/python3.9   1         manual mode\n",
            "\n",
            "Press <enter> to keep the current choice[*], or type selection number: 2\n",
            "update-alternatives: using /usr/bin/python3.9 to provide /usr/bin/python3 (python3) in manual mode\n",
            "Python 3.9.16\n",
            "Reading package lists... Done\n",
            "Building dependency tree       \n",
            "Reading state information... Done\n",
            "The following package was automatically installed and is no longer required:\n",
            "  libnvidia-common-510\n",
            "Use 'sudo apt autoremove' to remove it.\n",
            "The following additional packages will be installed:\n",
            "  python-pip-whl python3-setuptools python3-wheel\n",
            "Suggested packages:\n",
            "  python-setuptools-doc\n",
            "The following NEW packages will be installed:\n",
            "  python-pip-whl python3-pip python3-setuptools python3-wheel\n",
            "0 upgraded, 4 newly installed, 0 to remove and 33 not upgraded.\n",
            "Need to get 2,389 kB of archives.\n",
            "After this operation, 4,933 kB of additional disk space will be used.\n",
            "Get:1 http://archive.ubuntu.com/ubuntu focal-updates/universe amd64 python-pip-whl all 20.0.2-5ubuntu1.7 [1,805 kB]\n",
            "Get:2 http://archive.ubuntu.com/ubuntu focal-updates/main amd64 python3-setuptools all 45.2.0-1ubuntu0.1 [330 kB]\n",
            "Get:3 http://archive.ubuntu.com/ubuntu focal-updates/universe amd64 python3-wheel all 0.34.2-1ubuntu0.1 [23.9 kB]\n",
            "Get:4 http://archive.ubuntu.com/ubuntu focal-updates/universe amd64 python3-pip all 20.0.2-5ubuntu1.7 [230 kB]\n",
            "Fetched 2,389 kB in 6s (422 kB/s)\n",
            "debconf: unable to initialize frontend: Dialog\n",
            "debconf: (No usable dialog-like program is installed, so the dialog based frontend cannot be used. at /usr/share/perl5/Debconf/FrontEnd/Dialog.pm line 76, <> line 4.)\n",
            "debconf: falling back to frontend: Readline\n",
            "debconf: unable to initialize frontend: Readline\n",
            "debconf: (This frontend requires a controlling tty.)\n",
            "debconf: falling back to frontend: Teletype\n",
            "dpkg-preconfigure: unable to re-open stdin: \n",
            "Selecting previously unselected package python-pip-whl.\n",
            "(Reading database ... 130138 files and directories currently installed.)\n",
            "Preparing to unpack .../python-pip-whl_20.0.2-5ubuntu1.7_all.deb ...\n",
            "Unpacking python-pip-whl (20.0.2-5ubuntu1.7) ...\n",
            "Selecting previously unselected package python3-setuptools.\n",
            "Preparing to unpack .../python3-setuptools_45.2.0-1ubuntu0.1_all.deb ...\n",
            "Unpacking python3-setuptools (45.2.0-1ubuntu0.1) ...\n",
            "Selecting previously unselected package python3-wheel.\n",
            "Preparing to unpack .../python3-wheel_0.34.2-1ubuntu0.1_all.deb ...\n",
            "Unpacking python3-wheel (0.34.2-1ubuntu0.1) ...\n",
            "Selecting previously unselected package python3-pip.\n",
            "Preparing to unpack .../python3-pip_20.0.2-5ubuntu1.7_all.deb ...\n",
            "Unpacking python3-pip (20.0.2-5ubuntu1.7) ...\n",
            "Setting up python3-setuptools (45.2.0-1ubuntu0.1) ...\n",
            "Setting up python3-wheel (0.34.2-1ubuntu0.1) ...\n",
            "Setting up python-pip-whl (20.0.2-5ubuntu1.7) ...\n",
            "Setting up python3-pip (20.0.2-5ubuntu1.7) ...\n",
            "Processing triggers for man-db (2.9.1-1) ...\n"
          ]
        }
      ]
    },
    {
      "cell_type": "markdown",
      "source": [
        "## Prueba de solvencia"
      ],
      "metadata": {
        "id": "mhqTweyfIALY"
      }
    },
    {
      "cell_type": "markdown",
      "source": [
        "### Paso 1 – Eliminamos la carpeta proof-of-liabilities para poder descargar el código de lemon y así tener la ultima versión disponible del software desarrollado por lemon.\n"
      ],
      "metadata": {
        "id": "7IgLmNIaEKXT"
      }
    },
    {
      "cell_type": "code",
      "source": [
        "import os\n",
        "import shutil\n",
        "\n",
        "if os.path.isdir('proof-of-liabilities'):\n",
        "  shutil.rmtree('proof-of-liabilities')"
      ],
      "metadata": {
        "id": "90NlBP5u7gCV"
      },
      "execution_count": 44,
      "outputs": []
    },
    {
      "cell_type": "markdown",
      "source": [
        "### Paso 2 – Copiamos el código de del software de lemon en la carpeta proof-of-liabilities."
      ],
      "metadata": {
        "id": "N_cwBK9DE56D"
      }
    },
    {
      "cell_type": "code",
      "execution_count": null,
      "metadata": {
        "id": "PedF2jJY4WYm"
      },
      "outputs": [],
      "source": [
        "!git clone https://github.com/lemonatio/proof-of-liabilities.git proof-of-liabilities"
      ]
    },
    {
      "cell_type": "markdown",
      "source": [
        "### Paso 3 - Nos movemos a esa carpeta"
      ],
      "metadata": {
        "id": "gF7FeL9tFMpS"
      }
    },
    {
      "cell_type": "code",
      "source": [
        "%cd proof-of-liabilities/"
      ],
      "metadata": {
        "colab": {
          "base_uri": "https://localhost:8080/"
        },
        "id": "uGgWyMhl6HZP",
        "outputId": "734782cb-a96f-43ea-a831-b140167ce4a9"
      },
      "execution_count": 28,
      "outputs": [
        {
          "output_type": "stream",
          "name": "stdout",
          "text": [
            "/content/proof-of-liabilities\n",
            "/content/proof-of-liabilities\n"
          ]
        }
      ]
    },
    {
      "cell_type": "markdown",
      "source": [
        "Paso 5 – Subimos los archivos proof.csv y root.json a la carpeta proof-of-liabilities.\n",
        "Para hacer esto nos dirigimos al icono de la “carpetita” de la izquierda y arrastramos dichos archivos a la carpeta proof-of-liabilities.\n",
        "\n",
        "![Captura desde 2023-02-08 23-53-50.png](data:image/png;base64,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)"
      ],
      "metadata": {
        "id": "1bRxUUe8F4aV"
      }
    },
    {
      "cell_type": "markdown",
      "source": [
        "### Paso 4 – Ejecutamos la verificación"
      ],
      "metadata": {
        "id": "ZcrGYlgqGTMf"
      }
    },
    {
      "cell_type": "code",
      "source": [
        "!python3 verify.py -i proof.csv -r root.json"
      ],
      "metadata": {
        "id": "9blVW9KL-wv0"
      },
      "execution_count": null,
      "outputs": []
    }
  ]
}